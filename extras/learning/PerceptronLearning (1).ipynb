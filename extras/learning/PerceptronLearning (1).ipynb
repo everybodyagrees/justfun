{
  "cells": [
    {
      "cell_type": "code",
      "execution_count": 1,
      "metadata": {
        "id": "4KzhbearzKWw"
      },
      "outputs": [],
      "source": [
        "import numpy as np\n",
        "import pandas\n",
        "\n",
        "#Read data from data.csv (here for the demonstration it has got the truth table of AND gate)\n",
        "data=pandas.read_csv(filepath_or_buffer='data.csv', header=None)\n",
        "\n",
        "#Convert dataframe to numpy array\n",
        "data=data.values\n",
        "\n",
        "#number of input/output pairs\n",
        "n_datapoints=data.shape[0]\n",
        "\n",
        "\n",
        "#number of attributes\n",
        "n_dimensions=data.shape[1]-1"
      ]
    },
    {
      "cell_type": "code",
      "execution_count": 2,
      "metadata": {
        "id": "4kHgBlqzzKW1",
        "outputId": "61b5243b-d12d-43ef-c2ea-d668a98ee69a",
        "colab": {
          "base_uri": "https://localhost:8080/"
        }
      },
      "outputs": [
        {
          "output_type": "stream",
          "name": "stdout",
          "text": [
            "[0.47754399 0.77834967] (2,)\n",
            "0.004973010632214003\n"
          ]
        }
      ],
      "source": [
        "#randomly initializing weights between -1 to 1\n",
        "W=2 * np.random.random_sample(n_dimensions) - 1\n",
        "\n",
        "#randomly initializing bias\n",
        "b=np.random.random()\n",
        "\n",
        "#printing weights and bias\n",
        "print(W, W.shape)\n",
        "print(b)\n",
        "\n",
        "#initializing weights and bias\n",
        "lr=0.1\n",
        "n_epochs=20"
      ]
    },
    {
      "cell_type": "code",
      "execution_count": 3,
      "metadata": {
        "id": "KjNhrU1izKW4",
        "outputId": "371e1b84-76b0-4ba1-84b3-691ea4617b3d",
        "colab": {
          "base_uri": "https://localhost:8080/"
        }
      },
      "outputs": [
        {
          "output_type": "stream",
          "name": "stdout",
          "text": [
            "[0.37754399 0.47834967]\n",
            "-0.495026989367786\n",
            "[False False False  True]\n"
          ]
        }
      ],
      "source": [
        "#outer for loop for number of epochs\n",
        "for i in range(n_epochs):\n",
        "    #inner for loop for presentation of all input/output pairs in an epoch\n",
        "    for j in range(n_datapoints):\n",
        "        #net_input = Wp + b\n",
        "        net_input=np.dot(W, data[j,0:n_dimensions]) + b\n",
        "\n",
        "        #a=1 if net_input>=0 else a=0 (hardlim activation function)\n",
        "        a=net_input>=0\n",
        "\n",
        "        #error=target-actual\n",
        "        e=data[j,n_dimensions]-a\n",
        "\n",
        "        #update weights and bias using perceptron learning rule\n",
        "        W=W + lr*e*(data[j,0:n_dimensions])\n",
        "        b=b + lr*e\n",
        "\n",
        "#printing weights and biases\n",
        "print(W)\n",
        "print(b)\n",
        "\n",
        "#making prediction\n",
        "prediction= (np.dot(data[:,0:n_dimensions],W)+b)>=0\n",
        "\n",
        "#displaying prediction\n",
        "print(prediction)"
      ]
    },
    {
      "cell_type": "code",
      "execution_count": null,
      "metadata": {
        "id": "lufxz576zKW4"
      },
      "outputs": [],
      "source": []
    }
  ],
  "metadata": {
    "kernelspec": {
      "display_name": "Python 3",
      "language": "python",
      "name": "python3"
    },
    "language_info": {
      "codemirror_mode": {
        "name": "ipython",
        "version": 3
      },
      "file_extension": ".py",
      "mimetype": "text/x-python",
      "name": "python",
      "nbconvert_exporter": "python",
      "pygments_lexer": "ipython3",
      "version": "3.8.5"
    },
    "colab": {
      "provenance": []
    }
  },
  "nbformat": 4,
  "nbformat_minor": 0
}